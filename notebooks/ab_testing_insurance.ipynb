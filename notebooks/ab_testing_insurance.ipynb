{
 "cells": [
  {
   "cell_type": "code",
   "execution_count": 1,
   "metadata": {},
   "outputs": [],
   "source": [
    "import sys\n",
    "import os\n",
    "import numpy as np\n",
    "import pandas as pd\n",
    "sys.path.append(os.path.abspath('../scripts'))"
   ]
  },
  {
   "cell_type": "code",
   "execution_count": 2,
   "metadata": {},
   "outputs": [],
   "source": [
    "from ab_testing import *"
   ]
  },
  {
   "cell_type": "code",
   "execution_count": 3,
   "metadata": {},
   "outputs": [
    {
     "data": {
      "text/html": [
       "<div>\n",
       "<style scoped>\n",
       "    .dataframe tbody tr th:only-of-type {\n",
       "        vertical-align: middle;\n",
       "    }\n",
       "\n",
       "    .dataframe tbody tr th {\n",
       "        vertical-align: top;\n",
       "    }\n",
       "\n",
       "    .dataframe thead th {\n",
       "        text-align: right;\n",
       "    }\n",
       "</style>\n",
       "<table border=\"1\" class=\"dataframe\">\n",
       "  <thead>\n",
       "    <tr style=\"text-align: right;\">\n",
       "      <th></th>\n",
       "      <th>UnderwrittenCoverID</th>\n",
       "      <th>PolicyID</th>\n",
       "      <th>TransactionMonth</th>\n",
       "      <th>IsVATRegistered</th>\n",
       "      <th>Citizenship</th>\n",
       "      <th>LegalType</th>\n",
       "      <th>Title</th>\n",
       "      <th>Language</th>\n",
       "      <th>Bank</th>\n",
       "      <th>AccountType</th>\n",
       "      <th>...</th>\n",
       "      <th>ExcessSelected</th>\n",
       "      <th>CoverCategory</th>\n",
       "      <th>CoverType</th>\n",
       "      <th>CoverGroup</th>\n",
       "      <th>Section</th>\n",
       "      <th>Product</th>\n",
       "      <th>StatutoryClass</th>\n",
       "      <th>StatutoryRiskType</th>\n",
       "      <th>TotalPremium</th>\n",
       "      <th>TotalClaims</th>\n",
       "    </tr>\n",
       "  </thead>\n",
       "  <tbody>\n",
       "    <tr>\n",
       "      <th>0</th>\n",
       "      <td>145249</td>\n",
       "      <td>12827</td>\n",
       "      <td>2015-03-01 00:00:00</td>\n",
       "      <td>True</td>\n",
       "      <td></td>\n",
       "      <td>Close Corporation</td>\n",
       "      <td>Mr</td>\n",
       "      <td>English</td>\n",
       "      <td>First National Bank</td>\n",
       "      <td>Current account</td>\n",
       "      <td>...</td>\n",
       "      <td>Mobility - Windscreen</td>\n",
       "      <td>Windscreen</td>\n",
       "      <td>Windscreen</td>\n",
       "      <td>Comprehensive - Taxi</td>\n",
       "      <td>Motor Comprehensive</td>\n",
       "      <td>Mobility Metered Taxis: Monthly</td>\n",
       "      <td>Commercial</td>\n",
       "      <td>IFRS Constant</td>\n",
       "      <td>21.929825</td>\n",
       "      <td>0.0</td>\n",
       "    </tr>\n",
       "    <tr>\n",
       "      <th>1</th>\n",
       "      <td>145249</td>\n",
       "      <td>12827</td>\n",
       "      <td>2015-05-01 00:00:00</td>\n",
       "      <td>True</td>\n",
       "      <td></td>\n",
       "      <td>Close Corporation</td>\n",
       "      <td>Mr</td>\n",
       "      <td>English</td>\n",
       "      <td>First National Bank</td>\n",
       "      <td>Current account</td>\n",
       "      <td>...</td>\n",
       "      <td>Mobility - Windscreen</td>\n",
       "      <td>Windscreen</td>\n",
       "      <td>Windscreen</td>\n",
       "      <td>Comprehensive - Taxi</td>\n",
       "      <td>Motor Comprehensive</td>\n",
       "      <td>Mobility Metered Taxis: Monthly</td>\n",
       "      <td>Commercial</td>\n",
       "      <td>IFRS Constant</td>\n",
       "      <td>21.929825</td>\n",
       "      <td>0.0</td>\n",
       "    </tr>\n",
       "    <tr>\n",
       "      <th>2</th>\n",
       "      <td>145249</td>\n",
       "      <td>12827</td>\n",
       "      <td>2015-07-01 00:00:00</td>\n",
       "      <td>True</td>\n",
       "      <td></td>\n",
       "      <td>Close Corporation</td>\n",
       "      <td>Mr</td>\n",
       "      <td>English</td>\n",
       "      <td>First National Bank</td>\n",
       "      <td>Current account</td>\n",
       "      <td>...</td>\n",
       "      <td>Mobility - Windscreen</td>\n",
       "      <td>Windscreen</td>\n",
       "      <td>Windscreen</td>\n",
       "      <td>Comprehensive - Taxi</td>\n",
       "      <td>Motor Comprehensive</td>\n",
       "      <td>Mobility Metered Taxis: Monthly</td>\n",
       "      <td>Commercial</td>\n",
       "      <td>IFRS Constant</td>\n",
       "      <td>0.000000</td>\n",
       "      <td>0.0</td>\n",
       "    </tr>\n",
       "    <tr>\n",
       "      <th>3</th>\n",
       "      <td>145255</td>\n",
       "      <td>12827</td>\n",
       "      <td>2015-05-01 00:00:00</td>\n",
       "      <td>True</td>\n",
       "      <td></td>\n",
       "      <td>Close Corporation</td>\n",
       "      <td>Mr</td>\n",
       "      <td>English</td>\n",
       "      <td>First National Bank</td>\n",
       "      <td>Current account</td>\n",
       "      <td>...</td>\n",
       "      <td>Mobility - Metered Taxis - R2000</td>\n",
       "      <td>Own damage</td>\n",
       "      <td>Own Damage</td>\n",
       "      <td>Comprehensive - Taxi</td>\n",
       "      <td>Motor Comprehensive</td>\n",
       "      <td>Mobility Metered Taxis: Monthly</td>\n",
       "      <td>Commercial</td>\n",
       "      <td>IFRS Constant</td>\n",
       "      <td>512.848070</td>\n",
       "      <td>0.0</td>\n",
       "    </tr>\n",
       "    <tr>\n",
       "      <th>4</th>\n",
       "      <td>145255</td>\n",
       "      <td>12827</td>\n",
       "      <td>2015-07-01 00:00:00</td>\n",
       "      <td>True</td>\n",
       "      <td></td>\n",
       "      <td>Close Corporation</td>\n",
       "      <td>Mr</td>\n",
       "      <td>English</td>\n",
       "      <td>First National Bank</td>\n",
       "      <td>Current account</td>\n",
       "      <td>...</td>\n",
       "      <td>Mobility - Metered Taxis - R2000</td>\n",
       "      <td>Own damage</td>\n",
       "      <td>Own Damage</td>\n",
       "      <td>Comprehensive - Taxi</td>\n",
       "      <td>Motor Comprehensive</td>\n",
       "      <td>Mobility Metered Taxis: Monthly</td>\n",
       "      <td>Commercial</td>\n",
       "      <td>IFRS Constant</td>\n",
       "      <td>0.000000</td>\n",
       "      <td>0.0</td>\n",
       "    </tr>\n",
       "  </tbody>\n",
       "</table>\n",
       "<p>5 rows × 52 columns</p>\n",
       "</div>"
      ],
      "text/plain": [
       "   UnderwrittenCoverID  PolicyID     TransactionMonth  IsVATRegistered  \\\n",
       "0               145249     12827  2015-03-01 00:00:00             True   \n",
       "1               145249     12827  2015-05-01 00:00:00             True   \n",
       "2               145249     12827  2015-07-01 00:00:00             True   \n",
       "3               145255     12827  2015-05-01 00:00:00             True   \n",
       "4               145255     12827  2015-07-01 00:00:00             True   \n",
       "\n",
       "  Citizenship          LegalType Title Language                 Bank  \\\n",
       "0              Close Corporation    Mr  English  First National Bank   \n",
       "1              Close Corporation    Mr  English  First National Bank   \n",
       "2              Close Corporation    Mr  English  First National Bank   \n",
       "3              Close Corporation    Mr  English  First National Bank   \n",
       "4              Close Corporation    Mr  English  First National Bank   \n",
       "\n",
       "       AccountType  ...                    ExcessSelected CoverCategory  \\\n",
       "0  Current account  ...             Mobility - Windscreen    Windscreen   \n",
       "1  Current account  ...             Mobility - Windscreen    Windscreen   \n",
       "2  Current account  ...             Mobility - Windscreen    Windscreen   \n",
       "3  Current account  ...  Mobility - Metered Taxis - R2000    Own damage   \n",
       "4  Current account  ...  Mobility - Metered Taxis - R2000    Own damage   \n",
       "\n",
       "    CoverType            CoverGroup              Section  \\\n",
       "0  Windscreen  Comprehensive - Taxi  Motor Comprehensive   \n",
       "1  Windscreen  Comprehensive - Taxi  Motor Comprehensive   \n",
       "2  Windscreen  Comprehensive - Taxi  Motor Comprehensive   \n",
       "3  Own Damage  Comprehensive - Taxi  Motor Comprehensive   \n",
       "4  Own Damage  Comprehensive - Taxi  Motor Comprehensive   \n",
       "\n",
       "                           Product StatutoryClass StatutoryRiskType  \\\n",
       "0  Mobility Metered Taxis: Monthly     Commercial     IFRS Constant   \n",
       "1  Mobility Metered Taxis: Monthly     Commercial     IFRS Constant   \n",
       "2  Mobility Metered Taxis: Monthly     Commercial     IFRS Constant   \n",
       "3  Mobility Metered Taxis: Monthly     Commercial     IFRS Constant   \n",
       "4  Mobility Metered Taxis: Monthly     Commercial     IFRS Constant   \n",
       "\n",
       "   TotalPremium TotalClaims  \n",
       "0     21.929825         0.0  \n",
       "1     21.929825         0.0  \n",
       "2      0.000000         0.0  \n",
       "3    512.848070         0.0  \n",
       "4      0.000000         0.0  \n",
       "\n",
       "[5 rows x 52 columns]"
      ]
     },
     "execution_count": 3,
     "metadata": {},
     "output_type": "execute_result"
    }
   ],
   "source": [
    "# Load the data\n",
    "data = pd.read_csv('../data/MachineLearningRating_v3.txt', delimiter='|', low_memory=False) \n",
    "\n",
    "# Display the first few rows of the DataFrame\n",
    "data.head()\n"
   ]
  },
  {
   "cell_type": "code",
   "execution_count": 4,
   "metadata": {},
   "outputs": [],
   "source": [
    "from sklearn.impute import SimpleImputer\n",
    "\n",
    "imputer = SimpleImputer(strategy='mean')\n",
    "data[['TotalPremium', 'TotalClaims']] = imputer.fit_transform(data[['TotalPremium', 'TotalClaims']])\n",
    "\n",
    "from sklearn.preprocessing import RobustScaler\n",
    "\n",
    "scaler = RobustScaler()\n",
    "data[['TotalPremium', 'TotalClaims']] = scaler.fit_transform(data[['TotalPremium', 'TotalClaims']])\n",
    "\n"
   ]
  },
  {
   "cell_type": "code",
   "execution_count": 5,
   "metadata": {},
   "outputs": [
    {
     "name": "stdout",
     "output_type": "stream",
     "text": [
      "0\n",
      "0\n",
      "count    1.000098e+06\n",
      "mean     2.723559e+00\n",
      "std      1.050097e+01\n",
      "min     -3.578483e+01\n",
      "25%     -9.933200e-02\n",
      "50%      0.000000e+00\n",
      "75%      9.006680e-01\n",
      "max      2.976787e+03\n",
      "Name: TotalPremium, dtype: float64\n",
      "count    1.000098e+06\n",
      "mean     6.486119e+01\n",
      "std      2.384075e+03\n",
      "min     -1.200241e+04\n",
      "25%      0.000000e+00\n",
      "50%      0.000000e+00\n",
      "75%      0.000000e+00\n",
      "max      3.930921e+05\n",
      "Name: TotalClaims, dtype: float64\n",
      "count    9.998700e+05\n",
      "mean    -2.306152e+01\n",
      "std      3.984520e+03\n",
      "min     -1.536156e+06\n",
      "25%      0.000000e+00\n",
      "50%      0.000000e+00\n",
      "75%      0.000000e+00\n",
      "max      1.838018e+05\n",
      "Name: RiskRatio, dtype: float64\n"
     ]
    }
   ],
   "source": [
    "print(data['TotalPremium'].isnull().sum())  # Number of missing values\n",
    "print(data['TotalClaims'].isnull().sum())  # Number of missing values\n",
    "\n",
    "print(data['TotalPremium'].describe())\n",
    "print(data['TotalClaims'].describe())\n",
    "\n",
    "calculate_risk_ratio(data)\n",
    "# Summary statistics of RiskRatio\n",
    "print(data['RiskRatio'].describe())"
   ]
  },
  {
   "cell_type": "markdown",
   "metadata": {},
   "source": [
    "## Accept or reject the following Null Hypotheses: "
   ]
  },
  {
   "cell_type": "markdown",
   "metadata": {},
   "source": [
    "## A/b hypothesis 1"
   ]
  },
  {
   "cell_type": "markdown",
   "metadata": {},
   "source": [
    "- Null Hypothesis: There are no risk differences across provinces.\n",
    "\n",
    "- Alternative Hypothesis: There are significant risk differences across provinces.\n",
    "\n",
    "- Metric: Risk can be calculated as the ratio of total claims (TotalClaims) to total premium (TotalPremium) or through claims frequency. \n",
    "\n",
    "- the goal is to compare risk differences across multiple provinces."
   ]
  },
  {
   "cell_type": "code",
   "execution_count": 7,
   "metadata": {},
   "outputs": [
    {
     "name": "stdout",
     "output_type": "stream",
     "text": [
      "ANOVA F-statistic: 2.087543710223074\n",
      "p-value: 0.03338606757495004\n",
      "Reject the null hypothesis: There are significant differences in risk across provinces.\n"
     ]
    }
   ],
   "source": [
    "# Step 1: Calculate Risk Ratio\n",
    "calculate_risk_ratio(data)\n",
    "\n",
    "# Step 2: Perform ANOVA to test for significant risk differences across provinces\n",
    "f_stat, p_value = anova_test(data, 'RiskRatio', 'Province')\n",
    "\n",
    "# Step 3: Interpret the results\n",
    "alpha = 0.05  # significance level\n",
    "print(f'ANOVA F-statistic: {f_stat}')\n",
    "print(f'p-value: {p_value}')\n",
    "\n",
    "if p_value < alpha:\n",
    "    print(\"Reject the null hypothesis: There are significant differences in risk across provinces.\")\n",
    "else:\n",
    "    print(\"Fail to reject the null hypothesis: There are no significant differences in risk across provinces.\")"
   ]
  },
  {
   "cell_type": "markdown",
   "metadata": {},
   "source": [
    "An ANOVA test was performed to analyze whether there are significant differences in the RiskRatio across different provinces. The results of the test indicate the following:\n",
    "\n",
    "- F-statistic: 2.0875\n",
    "- p-value: 0.0334\n",
    "\n",
    "Since the p-value is below the significance threshold of 0.05, I rejected the null hypothesis, concluding that there are statistically significant differences in risk across provinces. This finding implies that risk is not equally distributed geographically."
   ]
  },
  {
   "cell_type": "markdown",
   "metadata": {},
   "source": [
    "## A/b hypothesis 2"
   ]
  },
  {
   "cell_type": "markdown",
   "metadata": {},
   "source": [
    "- Null Hypothesis: There are no risk differences between zip codes.\n",
    "\n",
    "- Alternative Hypothesis: There are significant risk differences between zip codes (represented by PostalCode).\n",
    "\n",
    "- Metric: Similar to the first hypothesis, risk can be evaluated using TotalClaims to TotalPremium. \n",
    "\n",
    "- The goal is to assess whether significant risk differences exist between zip codes."
   ]
  },
  {
   "cell_type": "code",
   "execution_count": 8,
   "metadata": {},
   "outputs": [
    {
     "name": "stdout",
     "output_type": "stream",
     "text": [
      "ANOVA F-statistic: 0.6249159710069903\n",
      "p-value: 0.9999999999999999\n",
      "Fail to reject the null hypothesis: There are no significant differences in risk between zip codes.\n"
     ]
    }
   ],
   "source": [
    "# Step 1: Calculate Risk Ratio\n",
    "calculate_risk_ratio(data)\n",
    "\n",
    "# Step 2: Perform ANOVA to test for significant risk differences between zip codes\n",
    "f_stat, p_value = anova_test(data, 'RiskRatio', 'PostalCode')\n",
    "\n",
    "# Step 3: Interpret the results\n",
    "alpha = 0.05  # significance level\n",
    "print(f'ANOVA F-statistic: {f_stat}')\n",
    "print(f'p-value: {p_value}')\n",
    "\n",
    "if p_value < alpha:\n",
    "    print(\"Reject the null hypothesis: There are significant differences in risk between zip codes.\")\n",
    "else:\n",
    "    print(\"Fail to reject the null hypothesis: There are no significant differences in risk between zip codes.\")"
   ]
  },
  {
   "cell_type": "markdown",
   "metadata": {},
   "source": [
    "An ANOVA test was conducted to assess whether there are significant differences in the RiskRatio across different zip codes. The findings are as follows:\n",
    "\n",
    "- F-statistic: 0.6249\n",
    "- p-value: 1.0\n",
    "With a p-value of 1.0, which is much higher than the significance threshold of 0.05, we fail to reject the null hypothesis. This indicates that there are no statistically significant differences in risk across zip codes. Consequently, the risk appears to be evenly distributed across zip codes in the data."
   ]
  },
  {
   "cell_type": "markdown",
   "metadata": {},
   "source": [
    "## A/b hypothesis 3"
   ]
  },
  {
   "cell_type": "markdown",
   "metadata": {},
   "source": [
    "- Null Hypothesis: There are no significant margin (profit) differences between zip codes.\n",
    "\n",
    "- Alternative Hypothesis: There are significant profit margin differences between zip codes.\n",
    "\n",
    "- Metric: Profit margin can be calculated as the difference between total premium (TotalPremium) and total claims (TotalClaims).\n",
    "\n",
    "- The goal is to compare the mean profit margins across different zip codes."
   ]
  },
  {
   "cell_type": "code",
   "execution_count": 9,
   "metadata": {},
   "outputs": [
    {
     "name": "stdout",
     "output_type": "stream",
     "text": [
      "count    1.000098e+06\n",
      "mean    -6.213763e+01\n",
      "std      2.382821e+03\n",
      "min     -3.930811e+05\n",
      "25%     -9.933200e-02\n",
      "50%     -9.560000e-04\n",
      "75%      9.006680e-01\n",
      "max      1.203158e+04\n",
      "Name: ProfitMargin, dtype: float64\n",
      "ANOVA F-statistic: 0.9347938292669827\n",
      "p-value: 0.9173934317420169\n",
      "Fail to reject the null hypothesis: There are no significant profit margin differences between zip codes.\n"
     ]
    }
   ],
   "source": [
    "# Step 1: Calculate Profit Margin and remove NaN values\n",
    "data = calculate_profit_margin(data)\n",
    "\n",
    "# Step 2: Inspect summary statistics after calculating profit margin\n",
    "print(data['ProfitMargin'].describe())\n",
    "\n",
    "# Step 3: Perform ANOVA to test for significant profit margin differences across zip codes\n",
    "try:\n",
    "    f_stat, p_value = anova_test(data, 'ProfitMargin', 'PostalCode')\n",
    "    # Interpret the results\n",
    "    alpha = 0.05  # significance level\n",
    "    print(f'ANOVA F-statistic: {f_stat}')\n",
    "    print(f'p-value: {p_value}')\n",
    "    if p_value < alpha:\n",
    "        print(\"Reject the null hypothesis: There are significant profit margin differences between zip codes.\")\n",
    "    else:\n",
    "        print(\"Fail to reject the null hypothesis: There are no significant profit margin differences between zip codes.\")\n",
    "except ValueError as e:\n",
    "    print(f'Error: {e}')"
   ]
  },
  {
   "cell_type": "markdown",
   "metadata": {},
   "source": [
    "An ANOVA test was performed to determine if there are significant differences in the ProfitMargin across different zip codes. The analysis yielded the following results:\n",
    "\n",
    "- F-statistic: 0.9348\n",
    "- p-value: 0.9174\n",
    "The p-value of 0.9174 is well above the significance level of 0.05, leading us to fail to reject the null hypothesis. This result indicates that there are no statistically significant differences in profit margins between zip codes. The profit margin appears to be uniformly distributed across the zip codes in the dataset."
   ]
  },
  {
   "cell_type": "markdown",
   "metadata": {},
   "source": [
    "## A/b hypothesis 4"
   ]
  },
  {
   "cell_type": "markdown",
   "metadata": {},
   "source": [
    "- Null Hypothesis: There are no significant risk differences between Women and Men.\n",
    "\n",
    "- Alternative Hypothesis: There are significant risk differences between Women and Men.\n",
    "\n",
    "- Metric: Risk can again be evaluated as the ratio of TotalClaims to TotalPremium.\n",
    "\n",
    "- The goal id to compare risk differences between men and women."
   ]
  },
  {
   "cell_type": "code",
   "execution_count": 6,
   "metadata": {},
   "outputs": [
    {
     "name": "stdout",
     "output_type": "stream",
     "text": [
      "T-test statistic: -0.7668261804240528\n",
      "p-value: 0.4431885220785591\n",
      "Fail to reject the null hypothesis: There are no significant risk differences between Women and Men.\n"
     ]
    }
   ],
   "source": [
    "# Perform T-test to compare risk between men and women\n",
    "try:\n",
    "    t_stat, p_value = t_test(data, 'Gender', 'Male', 'Female', 'RiskRatio')\n",
    "    # Interpret the results\n",
    "    alpha = 0.05  # significance level\n",
    "    print(f'T-test statistic: {t_stat}')\n",
    "    print(f'p-value: {p_value}')\n",
    "    if p_value < alpha:\n",
    "        print(\"Reject the null hypothesis: There are significant risk differences between Women and Men.\")\n",
    "    else:\n",
    "        print(\"Fail to reject the null hypothesis: There are no significant risk differences between Women and Men.\")\n",
    "except ValueError as e:\n",
    "    print(f'Error: {e}')"
   ]
  },
  {
   "cell_type": "markdown",
   "metadata": {},
   "source": [
    "A T-test was conducted to assess whether there are significant differences in the RiskRatio between women and men. The results are as follows:\n",
    "\n",
    "- T-test Statistic: -0.7668\n",
    "- p-value: 0.4432\n",
    "Given the p-value of 0.4432, which is greater than the significance threshold of 0.05, we fail to reject the null hypothesis. This indicates that there are no statistically significant differences in risk between women and men. The risk levels are similar across these gender groups in the dataset."
   ]
  }
 ],
 "metadata": {
  "kernelspec": {
   "display_name": "base",
   "language": "python",
   "name": "python3"
  },
  "language_info": {
   "codemirror_mode": {
    "name": "ipython",
    "version": 3
   },
   "file_extension": ".py",
   "mimetype": "text/x-python",
   "name": "python",
   "nbconvert_exporter": "python",
   "pygments_lexer": "ipython3",
   "version": "3.11.7"
  }
 },
 "nbformat": 4,
 "nbformat_minor": 2
}
